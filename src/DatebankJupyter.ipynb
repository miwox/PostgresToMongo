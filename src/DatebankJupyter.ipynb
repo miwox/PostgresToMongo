{
 "cells": [
  {
   "cell_type": "code",
   "execution_count": 11,
   "id": "e0307c97",
   "metadata": {},
   "outputs": [],
   "source": [
    "import psycopg2"
   ]
  },
  {
   "cell_type": "code",
   "execution_count": 12,
   "id": "178d4db5",
   "metadata": {},
   "outputs": [],
   "source": [
    "#verbindung zur query\n",
    "conn = psycopg2.connect(\n",
    "    host=\"localhost\",\n",
    "    port=5432,\n",
    "    database=\"dvdrental\",\n",
    "    user=\"postgres\",\n",
    "    password=\"1234\")"
   ]
  },
  {
   "cell_type": "code",
   "execution_count": 13,
   "id": "685d2842",
   "metadata": {},
   "outputs": [],
   "source": [
    "#hallo welt\n",
    "cur = conn.cursor()"
   ]
  },
  {
   "cell_type": "code",
   "execution_count": null,
   "id": "c5b5f21f",
   "metadata": {
    "scrolled": true
   },
   "outputs": [],
   "source": [
    "#das funktioniert noch nicht\n",
    "cur.execute(\"COPY (SELECT row_to_json(results)\n",
    "FROM (\n",
    "    (\n",
    "      SELECT array_to_json(array_agg(o))\n",
    "      FROM (\n",
    "        Select * FROM film\n",
    "      ) o\n",
    "    ) AS films\n",
    "  FROM users\n",
    ") results) TO '/tmp/orders.json' WITH (FORMAT text, HEADER FALSE);\")"
   ]
  },
  {
   "cell_type": "code",
   "execution_count": 22,
   "id": "8eb1448c",
   "metadata": {},
   "outputs": [],
   "source": [
    "#kopiert tabelle in json datei\n",
    "cur.execute(\"Select array_to_json(array_agg(o)) From(Select * FROM film LIMIT 2)o\")"
   ]
  },
  {
   "cell_type": "code",
   "execution_count": 15,
   "id": "30e86af0",
   "metadata": {},
   "outputs": [
    {
     "data": {
      "text/plain": [
       "(Column(name='array_to_json', type_code=114),)"
      ]
     },
     "execution_count": 15,
     "metadata": {},
     "output_type": "execute_result"
    }
   ],
   "source": [
    "#gibt zeilenbezeichner der query an\n",
    "cur.description"
   ]
  },
  {
   "cell_type": "code",
   "execution_count": 23,
   "id": "2351a41d",
   "metadata": {
    "scrolled": false
   },
   "outputs": [],
   "source": [
    "#gibt zeile zurück.\n",
    "json = cur.fetchone()"
   ]
  },
  {
   "cell_type": "code",
   "execution_count": 24,
   "id": "58c606f0",
   "metadata": {},
   "outputs": [
    {
     "data": {
      "text/plain": [
       "([{'film_id': 133,\n",
       "   'title': 'Chamber Italian',\n",
       "   'description': 'A Fateful Reflection of a Moose And a Husband who must Overcome a Monkey in Nigeria',\n",
       "   'release_year': 2006,\n",
       "   'language_id': 1,\n",
       "   'rental_duration': 7,\n",
       "   'rental_rate': 4.99,\n",
       "   'length': 117,\n",
       "   'replacement_cost': 14.99,\n",
       "   'rating': 'NC-17',\n",
       "   'last_update': '2013-05-26T14:50:58.951',\n",
       "   'special_features': ['Trailers'],\n",
       "   'fulltext': \"'chamber':1 'fate':4 'husband':11 'italian':2 'monkey':16 'moos':8 'must':13 'nigeria':18 'overcom':14 'reflect':5\"},\n",
       "  {'film_id': 384,\n",
       "   'title': 'Grosse Wonderful',\n",
       "   'description': 'A Epic Drama of a Cat And a Explorer who must Redeem a Moose in Australia',\n",
       "   'release_year': 2006,\n",
       "   'language_id': 1,\n",
       "   'rental_duration': 5,\n",
       "   'rental_rate': 4.99,\n",
       "   'length': 49,\n",
       "   'replacement_cost': 19.99,\n",
       "   'rating': 'R',\n",
       "   'last_update': '2013-05-26T14:50:58.951',\n",
       "   'special_features': ['Behind the Scenes'],\n",
       "   'fulltext': \"'australia':18 'cat':8 'drama':5 'epic':4 'explor':11 'gross':1 'moos':16 'must':13 'redeem':14 'wonder':2\"}],)"
      ]
     },
     "execution_count": 24,
     "metadata": {},
     "output_type": "execute_result"
    }
   ],
   "source": [
    "json"
   ]
  },
  {
   "cell_type": "code",
   "execution_count": null,
   "id": "3eaba27e",
   "metadata": {},
   "outputs": [],
   "source": [
    "row = cur.fetchone()\n",
    "while row is not None:\n",
    "            print(row)\n",
    "            print(\"\\n\")\n",
    "            row = cur.fetchone()"
   ]
  }
 ],
 "metadata": {
  "kernelspec": {
   "display_name": "Python 3 (ipykernel)",
   "language": "python",
   "name": "python3"
  },
  "language_info": {
   "codemirror_mode": {
    "name": "ipython",
    "version": 3
   },
   "file_extension": ".py",
   "mimetype": "text/x-python",
   "name": "python",
   "nbconvert_exporter": "python",
   "pygments_lexer": "ipython3",
   "version": "3.9.13"
  }
 },
 "nbformat": 4,
 "nbformat_minor": 5
}
