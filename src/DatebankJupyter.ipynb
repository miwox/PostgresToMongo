{
 "cells": [
  {
   "cell_type": "code",
   "execution_count": null,
   "id": "e0307c97",
   "metadata": {},
   "outputs": [],
   "source": [
    "import psycopg2\n",
    "import json"
   ]
  },
  {
   "cell_type": "code",
   "execution_count": null,
   "id": "178d4db5",
   "metadata": {},
   "outputs": [],
   "source": [
    "#verbindung zur query\n",
    "conn = psycopg2.connect(\n",
    "    host=\"localhost\",\n",
    "    port=5432,\n",
    "    database=\"dvdrental\",\n",
    "    user=\"postgres\",\n",
    "    password=\"1234\")\n",
    "cursor = conn.cursor()"
   ]
  },
  {
   "cell_type": "code",
   "execution_count": null,
   "id": "d743eb0f",
   "metadata": {},
   "outputs": [],
   "source": [
    "#SQL to get all base tablenames, in dvdrental there are also views.\n",
    "sql =  \"SELECT tablename from pg_catalog.pg_tables WHERE schemaname = 'public'\"\n",
    "cursor.execute(sql)"
   ]
  },
  {
   "cell_type": "code",
   "execution_count": null,
   "id": "60c08537",
   "metadata": {},
   "outputs": [],
   "source": [
    "table_names = []\n",
    "for pair in cursor:\n",
    "    table_names.append(pair[0])"
   ]
  },
  {
   "cell_type": "code",
   "execution_count": null,
   "id": "b231722e",
   "metadata": {},
   "outputs": [],
   "source": [
    "for name in table_names:\n",
    "    sql = f\"Select array_to_json(array_agg(x)) From(Select * FROM {name})x\"\n",
    "    cursor.execute(sql)\n",
    "    # aggregate function return only one element, use fetchone and eliminate the pair\n",
    "    json_data = json.dumps(cursor.fetchone()[0], indent=2)\n",
    "    with open(name + '.json', 'w') as fp:\n",
    "        fp.write(json_data)"
   ]
  }
 ],
 "metadata": {
  "kernelspec": {
   "display_name": "Python 3.9.13 ('py39')",
   "language": "python",
   "name": "python3"
  },
  "language_info": {
   "codemirror_mode": {
    "name": "ipython",
    "version": 3
   },
   "file_extension": ".py",
   "mimetype": "text/x-python",
   "name": "python",
   "nbconvert_exporter": "python",
   "pygments_lexer": "ipython3",
   "version": "3.9.13"
  },
  "vscode": {
   "interpreter": {
    "hash": "53c32ba4a341e540a8516b1dbdec884289d72c13638991eb2e6a6bc9a8ff8e03"
   }
  }
 },
 "nbformat": 4,
 "nbformat_minor": 5
}
