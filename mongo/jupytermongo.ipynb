{
 "cells": [
  {
   "cell_type": "code",
   "execution_count": 66,
   "metadata": {},
   "outputs": [],
   "source": [
    "# importing module\n",
    "from pymongo import MongoClient\n",
    "import hashlib\n",
    "import os\n",
    "import string\n",
    "import random\n",
    "from time import localtime, strftime\n",
    "client = MongoClient(\"mongodb://localhost:27017/\") #TODO PORTS als Konstante irgendwie an eine zentralen Stelle verlagern\n",
    "\n",
    "#TODO Eine Pretty-Print-Logging-Methode schreiben"
   ]
  },
  {
   "cell_type": "code",
   "execution_count": 67,
   "metadata": {},
   "outputs": [],
   "source": [
    "mydatabase = client['mongodb']"
   ]
  },
  {
   "cell_type": "code",
   "execution_count": 68,
   "metadata": {},
   "outputs": [],
   "source": [
    "query_a = [\n",
    "   {\n",
    "     '$group': {\n",
    "        '_id': 0,\n",
    "        'Gesamtanzahl der verfügbaren Filme': { '$sum': 1 }\n",
    "     }\n",
    "   },\n",
    "   {\n",
    "      '$project': {\n",
    "         '_id': 0\n",
    "      }\n",
    "   }\n",
    "]\n",
    "\n",
    "QUERY_A = mydatabase.inventory.aggregate(a)\n"
   ]
  },
  {
   "cell_type": "code",
   "execution_count": 60,
   "metadata": {},
   "outputs": [
    {
     "data": {
      "text/plain": [
       "{'Gesamtanzahl der verfügbaren Filme': 4145}"
      ]
     },
     "execution_count": 60,
     "metadata": {},
     "output_type": "execute_result"
    }
   ],
   "source": [
    "QUERY_A.next()"
   ]
  },
  {
   "cell_type": "code",
   "execution_count": 34,
   "metadata": {},
   "outputs": [],
   "source": [
    "QUERY_B = mydatabase.inventory.aggregate([\n",
    "    {\"$group\": {\n",
    "        '_id': \"$store_id\",\n",
    "        'film_set': {\n",
    "            '$addToSet': \"$film_id\"\n",
    "            }\n",
    "        }\n",
    "    },\n",
    "    {\"$project\": {\n",
    "        '_id': 0,\n",
    "        'Store_ID': \"$_id\",\n",
    "        'Verschiedene Filme': {\n",
    "            '$size': \"$film_set\"\n",
    "            }\n",
    "        }\n",
    "    }])\n"
   ]
  },
  {
   "cell_type": "code",
   "execution_count": 35,
   "metadata": {},
   "outputs": [
    {
     "data": {
      "text/plain": [
       "{'Store_ID': 2, 'Verschiedene Filme': 762}"
      ]
     },
     "execution_count": 35,
     "metadata": {},
     "output_type": "execute_result"
    }
   ],
   "source": [
    "QUERY_B.next()"
   ]
  },
  {
   "cell_type": "markdown",
   "metadata": {},
   "source": [
    "Select actor.actor_id, actor.first_name, Count(*) Anzahl, actor.last_name from film_actor\n",
    "join actor on film_actor.actor_id = actor.actor_id\n",
    "group by actor.actor_id\n",
    "Order by Anzahl DESC \n",
    "Limit 10"
   ]
  },
  {
   "cell_type": "code",
   "execution_count": 36,
   "metadata": {},
   "outputs": [],
   "source": [
    "QUERY_C = mydatabase.actor.aggregate([\n",
    "   {\n",
    "    '$lookup':{\n",
    "        'from': \"film_actor\",\n",
    "        'localField': \"actor_id\",\n",
    "        'foreignField': \"actor_id\",\n",
    "        'as': \"actor_info\"\n",
    "    }\n",
    "   },\n",
    "   {\n",
    "    '$project':{\n",
    "        '_id':0,\n",
    "        'Vorname':'$first_name',\n",
    "        'Nachname':'$last_name',\n",
    "        'Anzahl Auftritte': {\n",
    "            '$size': \"$actor_info\"\n",
    "        }\n",
    "     }\n",
    "    },\n",
    "    {\n",
    "    '$sort':{\n",
    "        'Anzahl Auftritte':-1\n",
    "    }\n",
    "   },\n",
    "   {\n",
    "    '$limit':10\n",
    "   }\n",
    "])"
   ]
  },
  {
   "cell_type": "code",
   "execution_count": 37,
   "metadata": {},
   "outputs": [
    {
     "data": {
      "text/plain": [
       "{'Vorname': 'Gina', 'Nachname': 'Degeneres', 'Anzahl Auftritte': 42}"
      ]
     },
     "execution_count": 37,
     "metadata": {},
     "output_type": "execute_result"
    }
   ],
   "source": [
    "QUERY_C.next()"
   ]
  },
  {
   "cell_type": "markdown",
   "metadata": {},
   "source": [
    "Select sum(payment.amount) total, staff.staff_id, staff.first_name, staff.last_name  from payment\n",
    "join staff on payment.staff_id = Staff.staff_id\n",
    "group by staff.staff_id\n",
    "\n",
    "total\tstaff_id\tfirst_name\tlast_name\n",
    "30252.12\t1\tMike\tHillyer\n",
    "31059.92\t2\tJon\tStephens"
   ]
  },
  {
   "cell_type": "code",
   "execution_count": 38,
   "metadata": {},
   "outputs": [],
   "source": [
    "QUERY_D = mydatabase.payment.aggregate([\n",
    "    {\n",
    "        '$group':{\n",
    "            '_id': \"$staff_id\",\n",
    "            'total':{\n",
    "                '$sum':\"$amount\"\n",
    "            }\n",
    "        }\n",
    "    },\n",
    "    {\n",
    "        '$project':{\n",
    "            '_id':0,\n",
    "            'Mitarber ID':\"$_id\",\n",
    "            'Erlös': {'$trunc':['$total', 2]}\n",
    "        }\n",
    "    }\n",
    "])"
   ]
  },
  {
   "cell_type": "code",
   "execution_count": 39,
   "metadata": {},
   "outputs": [
    {
     "data": {
      "text/plain": [
       "{'Mitarber ID': 1, 'Erlös': 30252.12}"
      ]
     },
     "execution_count": 39,
     "metadata": {},
     "output_type": "execute_result"
    }
   ],
   "source": [
    "QUERY_D.next()"
   ]
  },
  {
   "cell_type": "markdown",
   "metadata": {},
   "source": [
    "Select customer_id, Count(*) from rental\n",
    "group by customer_id\n",
    "Order By Count(*) DESC\n",
    "Limit 10;"
   ]
  },
  {
   "cell_type": "code",
   "execution_count": 61,
   "metadata": {},
   "outputs": [],
   "source": [
    "QUERY_E = mydatabase.rental.aggregate([\n",
    "    {\n",
    "        '$group':{\n",
    "            '_id': \"$customer_id\",\n",
    "            'count':{\n",
    "                '$sum':1\n",
    "            }\n",
    "        }\n",
    "    },\n",
    "    {\n",
    "        '$sort':{\n",
    "             'count' : -1\n",
    "            } \n",
    "    },\n",
    "    {\n",
    "        '$limit':10\n",
    "    },\n",
    "    {\n",
    "        '$project':{\n",
    "            '_id':0,\n",
    "            'Kunden ID':'$_id',\n",
    "            'Anzahl Entleihungen':'$count'\n",
    "        }\n",
    "    }\n",
    "])"
   ]
  },
  {
   "cell_type": "code",
   "execution_count": 65,
   "metadata": {},
   "outputs": [
    {
     "data": {
      "text/plain": [
       "{'Kunden ID': 137, 'Anzahl Entleihungen': 37}"
      ]
     },
     "execution_count": 65,
     "metadata": {},
     "output_type": "execute_result"
    }
   ],
   "source": [
    "QUERY_E.next()\n"
   ]
  },
  {
   "attachments": {},
   "cell_type": "markdown",
   "metadata": {},
   "source": [
    "Select customer.customer_id, customer.first_name, customer.last_name,\n",
    "Sum(payment.amount) as total, address.district from payment\n",
    "join customer on payment.customer_id = customer.customer_id\n",
    "join store on store.store_id = customer.store_id\n",
    "join address on store.address_id = address.address_id\n",
    "Group by customer.customer_id, address.address_id\n",
    "Order by total DESC\n",
    "Limit 10\n",
    "\n",
    "customer_id\tfirst_name\tlast_name\ttotal\tdistrict\n",
    "148\tEleanor\tHunt\t211.55\tAlberta\n",
    "526\tKarl\tSeal\t208.58\tQLD\n",
    "178\tMarion\tSnyder\t194.61\tQLD\n",
    "137\tRhonda\tKennedy\t191.62\tQLD\n",
    "144\tClara\tShaw\t189.60\tAlberta\n",
    "459\tTommy\tCollazo\t183.63\tAlberta\n",
    "181\tAna\tBradley\t167.67\tQLD\n",
    "410\tCurtis\tIrby\t167.62\tQLD\n",
    "236\tMarcia\tDean\t166.61\tAlberta\n",
    "403\tMike\tWay\t162.67\tAlberta"
   ]
  },
  {
   "cell_type": "code",
   "execution_count": 42,
   "metadata": {},
   "outputs": [],
   "source": [
    "QUERY_F = mydatabase.payment.aggregate([\n",
    "   {\n",
    "    '$group':{\n",
    "        '_id': \"$customer_id\",\n",
    "        'sum': {\n",
    "            '$sum':'$amount'\n",
    "        }\n",
    "    }\n",
    "   },\n",
    "   {\n",
    "    '$sort':{\n",
    "        'sum':-1\n",
    "    }\n",
    "   },\n",
    "   {\n",
    "    '$limit':10\n",
    "   },\n",
    "   {\n",
    "    '$lookup':{\n",
    "        'from': \"customer\",\n",
    "        'localField': \"_id\",\n",
    "        'foreignField': \"customer_id\",\n",
    "        'as': 'customer_info'\n",
    "    }\n",
    "   },\n",
    "    {\n",
    "    '$lookup':{\n",
    "        'from': \"store\",\n",
    "        'localField': \"customer_info.store_id\",\n",
    "        'foreignField': \"store_id\",\n",
    "        'as': 'store_info'\n",
    "    }\n",
    "   },\n",
    "    {\n",
    "    '$lookup':{\n",
    "        'from': \"address\",\n",
    "        'localField': \"store_info.address_id\",\n",
    "        'foreignField': \"address_id\",\n",
    "        'as': 'address_info'\n",
    "     }\n",
    "    },\n",
    "    {\n",
    "    '$unwind': '$customer_info'\n",
    "    },\n",
    "    {\n",
    "    '$unwind': '$address_info'\n",
    "    },\n",
    "    {\n",
    "    '$project':{\n",
    "        '_id':0,\n",
    "        'Vorname':'$customer_info.first_name',\n",
    "        'Nachname':'$customer_info.last_name',\n",
    "        'Ausgabe': '$sum',\n",
    "        'Niederlassung': \"$address_info.district\"\n",
    "     }\n",
    "    }\n",
    "])"
   ]
  },
  {
   "cell_type": "code",
   "execution_count": 43,
   "metadata": {},
   "outputs": [
    {
     "data": {
      "text/plain": [
       "{'Vorname': 'Eleanor',\n",
       " 'Nachname': 'Hunt',\n",
       " 'Ausgabe': 211.55,\n",
       " 'Niederlassung': 'Alberta'}"
      ]
     },
     "execution_count": 43,
     "metadata": {},
     "output_type": "execute_result"
    }
   ],
   "source": [
    "QUERY_F.next()"
   ]
  },
  {
   "attachments": {},
   "cell_type": "markdown",
   "metadata": {},
   "source": [
    "g)\n",
    "Select Count(film.film_id) as Amount, film.title from film\n",
    "join inventory on film.film_id = inventory.film_id\n",
    "join rental on inventory.inventory_id = rental.inventory_id\n",
    "Group by film.film_id\n",
    "Order by Amount DESC\n",
    "\n",
    "34\tBucket Brotherhood\n",
    "33\tRocketeer Mother\n",
    "32\tForward Temple\n",
    "32\tJuggler Hardly\n",
    "32\tRidgemont Submarine\n",
    "32\tGrit Clockwork\n",
    "32\tScalawag Duck\n",
    "31\tRobbers Joon\n",
    "31\tNetwork Peak\n",
    "31\tTimberland Sky"
   ]
  },
  {
   "cell_type": "code",
   "execution_count": 44,
   "metadata": {},
   "outputs": [],
   "source": [
    "QUERY_G = mydatabase.rental.aggregate([\n",
    "    {\n",
    "    '$lookup':{\n",
    "        'from': \"inventory\",\n",
    "        'localField': \"inventory_id\",\n",
    "        'foreignField': \"inventory_id\",\n",
    "        'as': 'inventory_info'\n",
    "     }\n",
    "    },\n",
    "   {\n",
    "    '$lookup':{\n",
    "        'from': \"film\",\n",
    "        'localField': \"inventory_info.film_id\",\n",
    "        'foreignField': \"film_id\",\n",
    "        'as': \"film_info\"\n",
    "    }\n",
    "   },\n",
    "   {\n",
    "     '$group':{\n",
    "        '_id': \"$film_info.film_id\",\n",
    "        'title': {\n",
    "            '$first': \"$film_info.title\"\n",
    "        },\n",
    "        'sum': {\n",
    "            '$sum': 1\n",
    "        }\n",
    "     }\n",
    "    },\n",
    "    {\n",
    "    '$sort':{\n",
    "        'sum':-1\n",
    "    }\n",
    "   },\n",
    "   {\n",
    "    '$limit':10\n",
    "   },\n",
    "   {\n",
    "    '$unwind': '$title'\n",
    "   },\n",
    "   {\n",
    "    '$project':{\n",
    "        '_id':0,\n",
    "        'Anzahl der Ausleihe': '$sum',\n",
    "        'Filmname':'$title'\n",
    "     }\n",
    "   }\n",
    "])"
   ]
  },
  {
   "cell_type": "code",
   "execution_count": 45,
   "metadata": {},
   "outputs": [
    {
     "data": {
      "text/plain": [
       "{'Anzahl der Ausleihe': 34, 'Filmname': 'Bucket Brotherhood'}"
      ]
     },
     "execution_count": 45,
     "metadata": {},
     "output_type": "execute_result"
    }
   ],
   "source": [
    "QUERY_G.next()"
   ]
  },
  {
   "attachments": {},
   "cell_type": "markdown",
   "metadata": {},
   "source": [
    "Select category.name, Count(*) from rental \n",
    "join inventory on rental.inventory_id = inventory.inventory_id\n",
    "join film_category on inventory.film_id = film_category.film_id\n",
    "join category on film_category.category_id = category.category_id\n",
    "GROUP BY category.category_id\n",
    "ORDER BY count DESC\n",
    "LIMIT 3\n",
    "\n",
    "\n",
    "name\tcount\n",
    "Sports\t1179\n",
    "Animation\t1166\n",
    "Action\t1112\n",
    "\n"
   ]
  },
  {
   "cell_type": "code",
   "execution_count": 46,
   "metadata": {},
   "outputs": [],
   "source": [
    "QUERY_H = mydatabase.category.aggregate([\n",
    "    {\n",
    "    '$lookup':{\n",
    "        'from': \"film_category\",\n",
    "        'localField': \"category_id\",\n",
    "        'foreignField': \"category_id\",\n",
    "        'as': 'film_category_info'\n",
    "     }\n",
    "    },\n",
    "    {\n",
    "    '$lookup':{\n",
    "        'from': \"inventory\",\n",
    "        'localField': \"film_category_info.film_id\",\n",
    "        'foreignField': \"film_id\",\n",
    "        'as': \"inventory_info\"\n",
    "    }\n",
    "   },\n",
    "   {\n",
    "    '$lookup':{\n",
    "        'from': \"rental\",\n",
    "        'localField': \"inventory_info.inventory_id\",\n",
    "        'foreignField': \"inventory_id\",\n",
    "        'as': \"rental_info\"\n",
    "    }\n",
    "   }, \n",
    "   {\n",
    "    '$project':{\n",
    "        '_id':0,\n",
    "        'Kategoriename': '$name',\n",
    "        'Anzahl':{\n",
    "            '$size':\"$rental_info\"\n",
    "        }\n",
    "    }\n",
    "   },\n",
    "   {\n",
    "    '$sort':{\n",
    "        'Anzahl': -1\n",
    "    }\n",
    "   },\n",
    "   {\n",
    "    '$limit':3\n",
    "   }\n",
    "])"
   ]
  },
  {
   "cell_type": "code",
   "execution_count": 47,
   "metadata": {},
   "outputs": [
    {
     "data": {
      "text/plain": [
       "{'Kategoriename': 'Sports', 'Anzahl': 1179}"
      ]
     },
     "execution_count": 47,
     "metadata": {},
     "output_type": "execute_result"
    }
   ],
   "source": [
    "QUERY_H.next()"
   ]
  },
  {
   "attachments": {},
   "cell_type": "markdown",
   "metadata": {},
   "source": [
    "Create View customer_list as collection"
   ]
  },
  {
   "cell_type": "code",
   "execution_count": 48,
   "metadata": {},
   "outputs": [],
   "source": [
    "CUSTOMER_LIST_PIPELINE = [\n",
    "    {\n",
    "    '$lookup':{\n",
    "        'from': \"address\",\n",
    "        'localField': \"address_id\",\n",
    "        'foreignField': \"address_id\",\n",
    "        'as': \"address_info\"\n",
    "     }\n",
    "    },\n",
    "    {\n",
    "    '$lookup':{\n",
    "        'from': \"city\",\n",
    "        'localField': \"address_info.city_id\",\n",
    "        'foreignField': \"city_id\",\n",
    "        'as': \"city_info\"\n",
    "     }\n",
    "    },\n",
    "    {\n",
    "    '$lookup':{\n",
    "        'from': \"country\",\n",
    "        'localField': \"city_info.country_id\",\n",
    "        'foreignField': \"country_id\",\n",
    "        'as': \"country_info\"\n",
    "     }\n",
    "    },\n",
    "    {\n",
    "        '$unwind': '$address_info'\n",
    "    }, \n",
    "    {\n",
    "        '$unwind': '$country_info'\n",
    "    },\n",
    "    {\n",
    "        '$unwind': '$city_info'\n",
    "    },\n",
    "    {\n",
    "    '$project':{\n",
    "        'id': '$customer_id', \n",
    "        'name': {\n",
    "            '$concat':['$first_name', ' ', '$last_name']\n",
    "        },\n",
    "        'address': '$address_info.address',\n",
    "        'zip code': '$address_info.postal_code',\n",
    "        'phone': '$address_info.phone',\n",
    "        'city': '$city_info.city',\n",
    "        'country': '$country_info.country',\n",
    "        'notes': {\n",
    "             '$cond': {\n",
    "                 'if': '$activebool', 'then': 'active', 'else': ''\n",
    "                  } \n",
    "                },\n",
    "        'ssid':'$store_id'\n",
    "        }\n",
    "    },\n",
    "    {\n",
    "        '$sort': {\n",
    "            'id':1\n",
    "        }\n",
    "    }\n",
    "    ]"
   ]
  },
  {
   "cell_type": "code",
   "execution_count": 49,
   "metadata": {},
   "outputs": [
    {
     "data": {
      "text/plain": [
       "Collection(Database(MongoClient(host=['localhost:27017'], document_class=dict, tz_aware=False, connect=True), 'mongodb'), 'customer_list')"
      ]
     },
     "execution_count": 49,
     "metadata": {},
     "output_type": "execute_result"
    }
   ],
   "source": [
    "mydatabase.create_collection(\n",
    "    'customer_list',\n",
    "    viewOn='customer',\n",
    "    pipeline=CUSTOMER_LIST_PIPELINE\n",
    ")"
   ]
  },
  {
   "attachments": {},
   "cell_type": "markdown",
   "metadata": {},
   "source": [
    "Update employees passwords"
   ]
  },
  {
   "cell_type": "code",
   "execution_count": 50,
   "metadata": {},
   "outputs": [],
   "source": [
    "def randomPassword():\n",
    "    salt = os.urandom(32)\n",
    "    password = ''.join(random.choice(string.ascii_uppercase + string.digits) for _ in range(15))\n",
    "    key = hashlib.pbkdf2_hmac('sha256', password.encode('utf-8'), salt, 100000)\n",
    "    return key"
   ]
  },
  {
   "cell_type": "code",
   "execution_count": 51,
   "metadata": {},
   "outputs": [],
   "source": [
    "for record in mydatabase.staff.find():\n",
    "    mydatabase.staff.update_one({'_id': record['_id']}, {'$set': {'password': randomPassword()}})"
   ]
  },
  {
   "attachments": {},
   "cell_type": "markdown",
   "metadata": {},
   "source": [
    "Update location with inventory"
   ]
  },
  {
   "cell_type": "code",
   "execution_count": 52,
   "metadata": {},
   "outputs": [],
   "source": [
    "address_id = mydatabase.address.find_one(sort=[('address_id', -1)])['address_id'] + 1\n",
    "new_address = {\n",
    " 'address_id': address_id,\n",
    " 'address': '1120 Loja Avenue',\n",
    " 'address2': '',\n",
    " 'district': 'California',\n",
    " 'city_id': 449,\n",
    " 'postal_code': '17886',\n",
    " 'phone': '110',\n",
    " 'last_update': strftime(\"%Y-%m-%dT%H:%M:%S\", localtime())}\n",
    " "
   ]
  },
  {
   "cell_type": "code",
   "execution_count": 53,
   "metadata": {},
   "outputs": [
    {
     "data": {
      "text/plain": [
       "<pymongo.results.InsertOneResult at 0x7fc67ba63a00>"
      ]
     },
     "execution_count": 53,
     "metadata": {},
     "output_type": "execute_result"
    }
   ],
   "source": [
    "mydatabase.address.insert_one(new_address)"
   ]
  },
  {
   "cell_type": "code",
   "execution_count": 54,
   "metadata": {},
   "outputs": [],
   "source": [
    "store_id = mydatabase.store.find_one(sort=[('store_id', -1)])['store_id'] + 1\n",
    "new_store = {\n",
    " 'store_id': store_id,\n",
    " 'manager_staff_id': 1,\n",
    " 'address_id': address_id,\n",
    " 'last_update': strftime(\"%Y-%m-%dT%H:%M:%S\", localtime())} #TODO Konstante einführen"
   ]
  },
  {
   "cell_type": "code",
   "execution_count": 55,
   "metadata": {},
   "outputs": [
    {
     "data": {
      "text/plain": [
       "<pymongo.results.InsertOneResult at 0x7fc6791eca30>"
      ]
     },
     "execution_count": 55,
     "metadata": {},
     "output_type": "execute_result"
    }
   ],
   "source": [
    "mydatabase.store.insert_one(new_store)"
   ]
  },
  {
   "cell_type": "code",
   "execution_count": 56,
   "metadata": {},
   "outputs": [
    {
     "data": {
      "text/plain": [
       "<pymongo.results.UpdateResult at 0x7fc67bafc040>"
      ]
     },
     "execution_count": 56,
     "metadata": {},
     "output_type": "execute_result"
    }
   ],
   "source": [
    "mydatabase.inventory.update_many({}, {\"$set\": {\"store_id\":store_id,\n",
    " 'last_update': strftime(\"%Y-%m-%dT%H:%M:%S\", localtime())}}) #TODO Konstante einführen"
   ]
  },
  {
   "attachments": {},
   "cell_type": "markdown",
   "metadata": {},
   "source": [
    "### TODO Exemplarische Abfragen um zu zeigen, dass Inventory sich geändert hat."
   ]
  },
  {
   "attachments": {},
   "cell_type": "markdown",
   "metadata": {},
   "source": [
    "Delete film lenght lt 60 minutes"
   ]
  },
  {
   "cell_type": "code",
   "execution_count": 57,
   "metadata": {},
   "outputs": [
    {
     "data": {
      "text/plain": [
       "<pymongo.results.DeleteResult at 0x7fc67bafc0d0>"
      ]
     },
     "execution_count": 57,
     "metadata": {},
     "output_type": "execute_result"
    }
   ],
   "source": [
    "film_ids_lt_60 = [k['film_id'] for k in mydatabase.film.find({'length': {'$lt': 60}})]\n",
    "inventory_ids_lt_60 = [k['inventory_id'] for k in mydatabase.inventory.find({'film_id':{'$in': film_ids_lt_60}})]    \n",
    "mydatabase.inventory.delete_many({'film_id':{'$in': film_ids_lt_60}})\n",
    "mydatabase.rental.delete_many({'inventory_id':{'$in': inventory_ids_lt_60}})"
   ]
  }
 ],
 "metadata": {
  "kernelspec": {
   "display_name": "Python 3.9.13 ('py39')",
   "language": "python",
   "name": "python3"
  },
  "language_info": {
   "codemirror_mode": {
    "name": "ipython",
    "version": 3
   },
   "file_extension": ".py",
   "mimetype": "text/x-python",
   "name": "python",
   "nbconvert_exporter": "python",
   "pygments_lexer": "ipython3",
   "version": "3.9.13"
  },
  "orig_nbformat": 4,
  "vscode": {
   "interpreter": {
    "hash": "53c32ba4a341e540a8516b1dbdec884289d72c13638991eb2e6a6bc9a8ff8e03"
   }
  }
 },
 "nbformat": 4,
 "nbformat_minor": 2
}
