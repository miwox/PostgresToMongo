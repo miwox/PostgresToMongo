{
 "cells": [
  {
   "cell_type": "code",
   "execution_count": 1,
   "metadata": {},
   "outputs": [],
   "source": [
    "# importing module\n",
    "from pymongo import MongoClient\n",
    "client = MongoClient(\"mongodb://localhost:27017/\")"
   ]
  },
  {
   "cell_type": "code",
   "execution_count": 2,
   "metadata": {},
   "outputs": [],
   "source": [
    "mydatabase = client['mongodb']"
   ]
  },
  {
   "cell_type": "code",
   "execution_count": 3,
   "metadata": {},
   "outputs": [],
   "source": [
    "collection_names = mydatabase.list_collection_names()"
   ]
  },
  {
   "cell_type": "code",
   "execution_count": 4,
   "metadata": {},
   "outputs": [
    {
     "data": {
      "text/plain": [
       "['film',\n",
       " 'staff',\n",
       " 'inventory',\n",
       " 'rental',\n",
       " 'address',\n",
       " 'category',\n",
       " 'customer',\n",
       " 'language',\n",
       " 'actor',\n",
       " 'film_actor',\n",
       " 'payment',\n",
       " 'film_category',\n",
       " 'city',\n",
       " 'country',\n",
       " 'store']"
      ]
     },
     "execution_count": 4,
     "metadata": {},
     "output_type": "execute_result"
    }
   ],
   "source": [
    "collection_names"
   ]
  },
  {
   "cell_type": "code",
   "execution_count": 167,
   "metadata": {},
   "outputs": [],
   "source": [
    "QUERY_A = mydatabase.film.aggregate([\n",
    "   {\n",
    "     '$group': {\n",
    "        '_id': 0,\n",
    "        'Gesamtanzahl der verfügbaren Filme': { '$sum': 1 }\n",
    "     }\n",
    "   },\n",
    "   {\n",
    "      '$project': {\n",
    "         '_id': 0\n",
    "      }\n",
    "   }\n",
    "])\n"
   ]
  },
  {
   "cell_type": "code",
   "execution_count": 168,
   "metadata": {},
   "outputs": [
    {
     "data": {
      "text/plain": [
       "{'Gesamtanzahl der verfügbaren Filme': 1000}"
      ]
     },
     "execution_count": 168,
     "metadata": {},
     "output_type": "execute_result"
    }
   ],
   "source": [
    "QUERY_A.next()"
   ]
  },
  {
   "cell_type": "code",
   "execution_count": 155,
   "metadata": {},
   "outputs": [],
   "source": [
    "QUERY_B = mydatabase.inventory.aggregate([\n",
    "    {\"$group\": {\n",
    "        '_id': \"$store_id\",\n",
    "        'film_set': {\n",
    "            '$addToSet': \"$film_id\"\n",
    "            }\n",
    "        }\n",
    "    },\n",
    "    {\"$project\": {\n",
    "        '_id': 0,\n",
    "        'Store_ID': \"$_id\",\n",
    "        'Verschiedene Filme': {\n",
    "            '$size': \"$film_set\"\n",
    "            }\n",
    "        }\n",
    "    }])\n"
   ]
  },
  {
   "cell_type": "code",
   "execution_count": 157,
   "metadata": {},
   "outputs": [
    {
     "data": {
      "text/plain": [
       "{'Store_ID': 2, 'Verschiedene Filme': 762}"
      ]
     },
     "execution_count": 157,
     "metadata": {},
     "output_type": "execute_result"
    }
   ],
   "source": [
    "QUERY_B.next()"
   ]
  },
  {
   "cell_type": "markdown",
   "metadata": {},
   "source": [
    "Select actor.actor_id, actor.first_name, Count(*) Anzahl, actor.last_name from film_actor\n",
    "join actor on film_actor.actor_id = actor.actor_id\n",
    "group by actor.actor_id\n",
    "Order by Anzahl DESC \n",
    "Limit 10"
   ]
  },
  {
   "cell_type": "code",
   "execution_count": 482,
   "metadata": {},
   "outputs": [],
   "source": [
    "QUERY_C = mydatabase.film_actor.aggregate([\n",
    "   {\n",
    "    '$group':{\n",
    "        '_id': \"$actor_id\",\n",
    "        'count': {\n",
    "            '$sum':1\n",
    "        }\n",
    "    }\n",
    "   },\n",
    "   {\n",
    "    '$sort':{\n",
    "        'count':-1\n",
    "    }\n",
    "   },\n",
    "   {\n",
    "    '$limit':10\n",
    "   },\n",
    "   {\n",
    "    '$lookup':{\n",
    "        'from': \"actor\",\n",
    "        'localField': \"_id\",\n",
    "        'foreignField': \"actor_id\",\n",
    "        'as': 'actor_info',\n",
    "        'pipeline': [{\n",
    "            '$project': {\n",
    "                '_id':0,\n",
    "                'firstname': \"$first_name\",\n",
    "                'lastname': \"$last_name\"\n",
    "            }\n",
    "        }]\n",
    "    }\n",
    "   },\n",
    "   {\n",
    "    '$unwind': '$actor_info'\n",
    "    },\n",
    "    {\n",
    "    '$project':{\n",
    "        '_id':0,\n",
    "        'Vorname':'$actor_info.firstname',\n",
    "        'Nachname':'$actor_info.lastname',\n",
    "        'Anzahl Auftritte': '$count'\n",
    "    }\n",
    "    }\n",
    "])"
   ]
  },
  {
   "cell_type": "code",
   "execution_count": 483,
   "metadata": {},
   "outputs": [],
   "source": [
    "QUERY_C = mydatabase.film_actor.aggregate([\n",
    "   {\n",
    "    '$group':{\n",
    "        '_id': \"$actor_id\",\n",
    "        'count': {\n",
    "            '$sum':1\n",
    "        }\n",
    "    }\n",
    "   },\n",
    "   {\n",
    "    '$sort':{\n",
    "        'count':-1\n",
    "    }\n",
    "   },\n",
    "   {\n",
    "    '$limit':10\n",
    "   },\n",
    "   {\n",
    "    '$lookup':{\n",
    "        'from': \"actor\",\n",
    "        'localField': \"_id\",\n",
    "        'foreignField': \"actor_id\",\n",
    "        'as': 'actor_info'\n",
    "    }\n",
    "   },\n",
    "   {\n",
    "    '$unwind': '$actor_info'\n",
    "    },\n",
    "    {\n",
    "    '$project':{\n",
    "        '_id':0,\n",
    "        'Vorname':'$actor_info.first_name',\n",
    "        'Nachname':'$actor_info.last_name',\n",
    "        'Anzahl Auftritte': '$count'\n",
    "    }\n",
    "    }\n",
    "])"
   ]
  },
  {
   "cell_type": "code",
   "execution_count": 485,
   "metadata": {},
   "outputs": [
    {
     "data": {
      "text/plain": [
       "{'Vorname': 'Walter', 'Nachname': 'Torn', 'Anzahl Auftritte': 41}"
      ]
     },
     "execution_count": 485,
     "metadata": {},
     "output_type": "execute_result"
    }
   ],
   "source": [
    "QUERY_C.next()"
   ]
  },
  {
   "cell_type": "markdown",
   "metadata": {},
   "source": [
    "Select sum(payment.amount) total, staff.staff_id, staff.first_name, staff.last_name  from payment\n",
    "join staff on payment.staff_id = Staff.staff_id\n",
    "group by staff.staff_id\n",
    "\n",
    "total\tstaff_id\tfirst_name\tlast_name\n",
    "30252.12\t1\tMike\tHillyer\n",
    "31059.92\t2\tJon\tStephens"
   ]
  },
  {
   "cell_type": "code",
   "execution_count": 515,
   "metadata": {},
   "outputs": [],
   "source": [
    "QUERY_D = mydatabase.payment.aggregate([\n",
    "    {\n",
    "        '$group':{\n",
    "            '_id': \"$staff_id\",\n",
    "            'total':{\n",
    "                '$sum':\"$amount\"\n",
    "            }\n",
    "        }\n",
    "    },\n",
    "    {\n",
    "        '$project':{\n",
    "            '_id':0,\n",
    "            'Mitarber ID':\"$_id\",\n",
    "            'Erlös': {'$trunc':['$total', 2]}\n",
    "        }\n",
    "    }\n",
    "])"
   ]
  },
  {
   "cell_type": "code",
   "execution_count": 516,
   "metadata": {},
   "outputs": [
    {
     "data": {
      "text/plain": [
       "{'Mitarber ID': 1, 'Erlös': 30252.12}"
      ]
     },
     "execution_count": 516,
     "metadata": {},
     "output_type": "execute_result"
    }
   ],
   "source": [
    "QUERY_D.next()"
   ]
  },
  {
   "cell_type": "markdown",
   "metadata": {},
   "source": [
    "Select customer_id, Count(*) from rental\n",
    "group by customer_id\n",
    "Order By Count(*) DESC\n",
    "Limit 10;"
   ]
  },
  {
   "cell_type": "code",
   "execution_count": 565,
   "metadata": {},
   "outputs": [],
   "source": [
    "QUERY_E = mydatabase.rental.aggregate([\n",
    "    {\n",
    "        '$group':{\n",
    "            '_id': \"$customer_id\",\n",
    "            'count':{\n",
    "                '$sum':1\n",
    "            }\n",
    "        }\n",
    "    },\n",
    "    {\n",
    "        '$sort':{\n",
    "             'count' : -1\n",
    "            } \n",
    "    },\n",
    "    {\n",
    "        '$limit':10\n",
    "    },\n",
    "    {\n",
    "        '$project':{\n",
    "            '_id':0,\n",
    "            'Kunden ID':'$_id',\n",
    "            'Anzahl Entleihungen':'$count'\n",
    "        }\n",
    "    }\n",
    "])"
   ]
  },
  {
   "cell_type": "code",
   "execution_count": 566,
   "metadata": {},
   "outputs": [
    {
     "data": {
      "text/plain": [
       "{'Kunden ID': 148, 'Anzahl Entleihungen': 46}"
      ]
     },
     "execution_count": 566,
     "metadata": {},
     "output_type": "execute_result"
    }
   ],
   "source": [
    "QUERY_E.next()"
   ]
  },
  {
   "cell_type": "code",
   "execution_count": 4,
   "metadata": {},
   "outputs": [
    {
     "data": {
      "text/plain": [
       "{'amount of movies': 1000}"
      ]
     },
     "execution_count": 4,
     "metadata": {},
     "output_type": "execute_result"
    }
   ],
   "source": [
    "collection = mydatabase['film']\n",
    "cur = collection.aggregate([{'$count': \"amount of movies\"}])\n",
    "cur.next()"
   ]
  },
  {
   "cell_type": "code",
   "execution_count": 5,
   "metadata": {},
   "outputs": [
    {
     "data": {
      "text/plain": [
       "{'amount of movies': 1000}"
      ]
     },
     "execution_count": 5,
     "metadata": {},
     "output_type": "execute_result"
    }
   ],
   "source": [
    "cur = collection.aggregate([{'$count': \"amount of movies\"}])\n",
    "cur.next()"
   ]
  },
  {
   "cell_type": "code",
   "execution_count": 32,
   "metadata": {},
   "outputs": [],
   "source": [
    "collection = mydatabase['inventory']\n",
    "cur = collection.aggregate([{\n",
    "  \"$group\": {\n",
    "    \"_id\": \"$store_id\",\n",
    "    \"count\": {\n",
    "      \"$sum\": 1\n",
    "    }\n",
    "  }\n",
    "},{\n",
    "  \"$project\": {\n",
    "    \"store_id\": \"$_id\",\n",
    "    \"count\": 1,\n",
    "    \"_id\": 0\n",
    "  }\n",
    "}])\n"
   ]
  },
  {
   "cell_type": "code",
   "execution_count": 34,
   "metadata": {},
   "outputs": [
    {
     "data": {
      "text/plain": [
       "{'count': 2270, 'store_id': 1}"
      ]
     },
     "execution_count": 34,
     "metadata": {},
     "output_type": "execute_result"
    }
   ],
   "source": [
    "cur.next()"
   ]
  }
 ],
 "metadata": {
  "kernelspec": {
   "display_name": "Python 3.9.13 ('py39')",
   "language": "python",
   "name": "python3"
  },
  "language_info": {
   "codemirror_mode": {
    "name": "ipython",
    "version": 3
   },
   "file_extension": ".py",
   "mimetype": "text/x-python",
   "name": "python",
   "nbconvert_exporter": "python",
   "pygments_lexer": "ipython3",
   "version": "3.9.13"
  },
  "orig_nbformat": 4,
  "vscode": {
   "interpreter": {
    "hash": "53c32ba4a341e540a8516b1dbdec884289d72c13638991eb2e6a6bc9a8ff8e03"
   }
  }
 },
 "nbformat": 4,
 "nbformat_minor": 2
}
